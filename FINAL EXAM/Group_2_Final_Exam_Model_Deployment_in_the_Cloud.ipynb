{
  "nbformat": 4,
  "nbformat_minor": 0,
  "metadata": {
    "colab": {
      "provenance": []
    },
    "kernelspec": {
      "name": "python3",
      "display_name": "Python 3"
    },
    "language_info": {
      "name": "python"
    }
  },
  "cells": [
    {
      "cell_type": "markdown",
      "source": [
        "Technological Institute of the Philippines | Quezon City - Computer Engineering\n",
        "--- | ---\n",
        "Course Code: | CPE 019\n",
        "Code Title: | Emerging Technologies in CpE 2\n",
        "2nd Semester | AY 2023-2024\n",
        "<hr> | <hr>\n",
        "<u>**Final Exam** | Model Deployment in the Cloud\n",
        "**Name** | Abad, Julia Marie Iberet\n",
        "            | Leopando, Lara Jeanene   \n",
        "**Section** | CPE32S3\n",
        "**Date Performed**: | May 14, 2024\n",
        "**Date Submitted**: | May 18, 2024\n",
        "**Instructor**: | Engr. Roman Richard\n",
        "\n"
      ],
      "metadata": {
        "id": "h6cGImBTcmyR"
      }
    },
    {
      "cell_type": "markdown",
      "source": [
        "#Objective(s):\n",
        "\n",
        "This activity aims to apply all the learnings for the Final Period.\n",
        "\n"
      ],
      "metadata": {
        "id": "pkH86UIThpsA"
      }
    },
    {
      "cell_type": "markdown",
      "source": [
        "#Intended Learning Outcomes (ILOs):\n",
        "\n",
        "- Demonstrate how to train and save a model.\n",
        "- Demonstrate how to deploy the deep learning model in the cloud. (not Machine Learning model)\n"
      ],
      "metadata": {
        "id": "f1jVa7a7hsMx"
      }
    },
    {
      "cell_type": "markdown",
      "source": [
        "#Instructions:\n",
        "\n",
        "- You can choose any previous deep learning model.\n",
        "- Follow the instructions on deploying a model using Streamlit App in the cloud."
      ],
      "metadata": {
        "id": "bwNC5XHnhyoG"
      }
    },
    {
      "cell_type": "markdown",
      "source": [
        "#About the Dataset\n",
        "\n",
        "The Dataset we used: **Cats and Dogs image classification** <br><br>\n",
        "**Link of the Dataset:** https://www.kaggle.com/datasets/samuelcortinhas/cats-and-dogs-image-classification <br><br>\n",
        "\n",
        "- Contains mages of cats and dogs scraped off of google images. The problem statement is to build a model that can classify between a cat and a dog in an image as accurately as possible.<br>\n",
        "\n",
        "- Image sizes range from roughly 100x100 pixels to 2000x1000 pixels.<br>\n",
        "\n",
        "- Image format is jpeg."
      ],
      "metadata": {
        "id": "PQa18k1ZbZg7"
      }
    },
    {
      "cell_type": "markdown",
      "source": [
        "#Problem that the dataset is solving\n",
        "\n",
        "The primary problem this project addresses is the automatic classification of images into specific categories—in this case, identifying whether an image contains a cat or a dog. This type of classification is useful in numerous real-world applications. <br><br>\n",
        "\n",
        "Examples:<br><br>\n",
        "\n",
        "- Photo Organization: Automatically tagging and organizing large collections of pet photos.\n",
        "- Animal Shelter Management: Assisting in the automatic categorization of pets in shelters for faster processing and management.\n",
        "- Content Filtering: Enabling content filtering on social media platforms to manage and sort user-uploaded pet images.\n",
        "- Pet Recognition: Assisting in pet recognition systems for lost and found services"
      ],
      "metadata": {
        "id": "pP94tjnr1a3T"
      }
    },
    {
      "cell_type": "markdown",
      "source": [
        "#Activity Proper"
      ],
      "metadata": {
        "id": "iRI0lzttgTrC"
      }
    },
    {
      "cell_type": "code",
      "source": [
        "from google.colab import drive\n",
        "drive.mount('/content/drive')"
      ],
      "metadata": {
        "colab": {
          "base_uri": "https://localhost:8080/"
        },
        "id": "qZORGhhseotP",
        "outputId": "f02bd62f-cd33-46e2-db0a-aab4d2b3ec4a"
      },
      "execution_count": null,
      "outputs": [
        {
          "output_type": "stream",
          "name": "stdout",
          "text": [
            "Drive already mounted at /content/drive; to attempt to forcibly remount, call drive.mount(\"/content/drive\", force_remount=True).\n"
          ]
        }
      ]
    },
    {
      "cell_type": "code",
      "source": [
        "!pip install streamlit"
      ],
      "metadata": {
        "colab": {
          "base_uri": "https://localhost:8080/"
        },
        "id": "CDjm9RxWq4gv",
        "outputId": "4f004ff8-a70e-4ec0-fafe-06aabbcf967d"
      },
      "execution_count": null,
      "outputs": [
        {
          "output_type": "stream",
          "name": "stdout",
          "text": [
            "Requirement already satisfied: streamlit in /usr/local/lib/python3.10/dist-packages (1.34.0)\n",
            "Requirement already satisfied: altair<6,>=4.0 in /usr/local/lib/python3.10/dist-packages (from streamlit) (4.2.2)\n",
            "Requirement already satisfied: blinker<2,>=1.0.0 in /usr/lib/python3/dist-packages (from streamlit) (1.4)\n",
            "Requirement already satisfied: cachetools<6,>=4.0 in /usr/local/lib/python3.10/dist-packages (from streamlit) (5.3.3)\n",
            "Requirement already satisfied: click<9,>=7.0 in /usr/local/lib/python3.10/dist-packages (from streamlit) (8.1.7)\n",
            "Requirement already satisfied: numpy<2,>=1.19.3 in /usr/local/lib/python3.10/dist-packages (from streamlit) (1.25.2)\n",
            "Requirement already satisfied: packaging<25,>=16.8 in /usr/local/lib/python3.10/dist-packages (from streamlit) (24.0)\n",
            "Requirement already satisfied: pandas<3,>=1.3.0 in /usr/local/lib/python3.10/dist-packages (from streamlit) (2.0.3)\n",
            "Requirement already satisfied: pillow<11,>=7.1.0 in /usr/local/lib/python3.10/dist-packages (from streamlit) (9.4.0)\n",
            "Requirement already satisfied: protobuf<5,>=3.20 in /usr/local/lib/python3.10/dist-packages (from streamlit) (3.20.3)\n",
            "Requirement already satisfied: pyarrow>=7.0 in /usr/local/lib/python3.10/dist-packages (from streamlit) (14.0.2)\n",
            "Requirement already satisfied: requests<3,>=2.27 in /usr/local/lib/python3.10/dist-packages (from streamlit) (2.31.0)\n",
            "Requirement already satisfied: rich<14,>=10.14.0 in /usr/local/lib/python3.10/dist-packages (from streamlit) (13.7.1)\n",
            "Requirement already satisfied: tenacity<9,>=8.1.0 in /usr/local/lib/python3.10/dist-packages (from streamlit) (8.2.3)\n",
            "Requirement already satisfied: toml<2,>=0.10.1 in /usr/local/lib/python3.10/dist-packages (from streamlit) (0.10.2)\n",
            "Requirement already satisfied: typing-extensions<5,>=4.3.0 in /usr/local/lib/python3.10/dist-packages (from streamlit) (4.11.0)\n",
            "Requirement already satisfied: gitpython!=3.1.19,<4,>=3.0.7 in /usr/local/lib/python3.10/dist-packages (from streamlit) (3.1.43)\n",
            "Requirement already satisfied: pydeck<1,>=0.8.0b4 in /usr/local/lib/python3.10/dist-packages (from streamlit) (0.9.1)\n",
            "Requirement already satisfied: tornado<7,>=6.0.3 in /usr/local/lib/python3.10/dist-packages (from streamlit) (6.3.3)\n",
            "Requirement already satisfied: watchdog>=2.1.5 in /usr/local/lib/python3.10/dist-packages (from streamlit) (4.0.0)\n",
            "Requirement already satisfied: entrypoints in /usr/local/lib/python3.10/dist-packages (from altair<6,>=4.0->streamlit) (0.4)\n",
            "Requirement already satisfied: jinja2 in /usr/local/lib/python3.10/dist-packages (from altair<6,>=4.0->streamlit) (3.1.3)\n",
            "Requirement already satisfied: jsonschema>=3.0 in /usr/local/lib/python3.10/dist-packages (from altair<6,>=4.0->streamlit) (4.19.2)\n",
            "Requirement already satisfied: toolz in /usr/local/lib/python3.10/dist-packages (from altair<6,>=4.0->streamlit) (0.12.1)\n",
            "Requirement already satisfied: gitdb<5,>=4.0.1 in /usr/local/lib/python3.10/dist-packages (from gitpython!=3.1.19,<4,>=3.0.7->streamlit) (4.0.11)\n",
            "Requirement already satisfied: python-dateutil>=2.8.2 in /usr/local/lib/python3.10/dist-packages (from pandas<3,>=1.3.0->streamlit) (2.8.2)\n",
            "Requirement already satisfied: pytz>=2020.1 in /usr/local/lib/python3.10/dist-packages (from pandas<3,>=1.3.0->streamlit) (2023.4)\n",
            "Requirement already satisfied: tzdata>=2022.1 in /usr/local/lib/python3.10/dist-packages (from pandas<3,>=1.3.0->streamlit) (2024.1)\n",
            "Requirement already satisfied: charset-normalizer<4,>=2 in /usr/local/lib/python3.10/dist-packages (from requests<3,>=2.27->streamlit) (3.3.2)\n",
            "Requirement already satisfied: idna<4,>=2.5 in /usr/local/lib/python3.10/dist-packages (from requests<3,>=2.27->streamlit) (3.7)\n",
            "Requirement already satisfied: urllib3<3,>=1.21.1 in /usr/local/lib/python3.10/dist-packages (from requests<3,>=2.27->streamlit) (2.0.7)\n",
            "Requirement already satisfied: certifi>=2017.4.17 in /usr/local/lib/python3.10/dist-packages (from requests<3,>=2.27->streamlit) (2024.2.2)\n",
            "Requirement already satisfied: markdown-it-py>=2.2.0 in /usr/local/lib/python3.10/dist-packages (from rich<14,>=10.14.0->streamlit) (3.0.0)\n",
            "Requirement already satisfied: pygments<3.0.0,>=2.13.0 in /usr/local/lib/python3.10/dist-packages (from rich<14,>=10.14.0->streamlit) (2.16.1)\n",
            "Requirement already satisfied: smmap<6,>=3.0.1 in /usr/local/lib/python3.10/dist-packages (from gitdb<5,>=4.0.1->gitpython!=3.1.19,<4,>=3.0.7->streamlit) (5.0.1)\n",
            "Requirement already satisfied: MarkupSafe>=2.0 in /usr/local/lib/python3.10/dist-packages (from jinja2->altair<6,>=4.0->streamlit) (2.1.5)\n",
            "Requirement already satisfied: attrs>=22.2.0 in /usr/local/lib/python3.10/dist-packages (from jsonschema>=3.0->altair<6,>=4.0->streamlit) (23.2.0)\n",
            "Requirement already satisfied: jsonschema-specifications>=2023.03.6 in /usr/local/lib/python3.10/dist-packages (from jsonschema>=3.0->altair<6,>=4.0->streamlit) (2023.12.1)\n",
            "Requirement already satisfied: referencing>=0.28.4 in /usr/local/lib/python3.10/dist-packages (from jsonschema>=3.0->altair<6,>=4.0->streamlit) (0.35.0)\n",
            "Requirement already satisfied: rpds-py>=0.7.1 in /usr/local/lib/python3.10/dist-packages (from jsonschema>=3.0->altair<6,>=4.0->streamlit) (0.18.0)\n",
            "Requirement already satisfied: mdurl~=0.1 in /usr/local/lib/python3.10/dist-packages (from markdown-it-py>=2.2.0->rich<14,>=10.14.0->streamlit) (0.1.2)\n",
            "Requirement already satisfied: six>=1.5 in /usr/local/lib/python3.10/dist-packages (from python-dateutil>=2.8.2->pandas<3,>=1.3.0->streamlit) (1.16.0)\n"
          ]
        }
      ]
    },
    {
      "cell_type": "code",
      "source": [
        "!pip install gdown"
      ],
      "metadata": {
        "colab": {
          "base_uri": "https://localhost:8080/"
        },
        "id": "HOtg2dygq67i",
        "outputId": "782488c0-c41a-4efd-a27c-1674f38baeea"
      },
      "execution_count": null,
      "outputs": [
        {
          "output_type": "stream",
          "name": "stdout",
          "text": [
            "Requirement already satisfied: gdown in /usr/local/lib/python3.10/dist-packages (5.1.0)\n",
            "Requirement already satisfied: beautifulsoup4 in /usr/local/lib/python3.10/dist-packages (from gdown) (4.12.3)\n",
            "Requirement already satisfied: filelock in /usr/local/lib/python3.10/dist-packages (from gdown) (3.14.0)\n",
            "Requirement already satisfied: requests[socks] in /usr/local/lib/python3.10/dist-packages (from gdown) (2.31.0)\n",
            "Requirement already satisfied: tqdm in /usr/local/lib/python3.10/dist-packages (from gdown) (4.66.2)\n",
            "Requirement already satisfied: soupsieve>1.2 in /usr/local/lib/python3.10/dist-packages (from beautifulsoup4->gdown) (2.5)\n",
            "Requirement already satisfied: charset-normalizer<4,>=2 in /usr/local/lib/python3.10/dist-packages (from requests[socks]->gdown) (3.3.2)\n",
            "Requirement already satisfied: idna<4,>=2.5 in /usr/local/lib/python3.10/dist-packages (from requests[socks]->gdown) (3.7)\n",
            "Requirement already satisfied: urllib3<3,>=1.21.1 in /usr/local/lib/python3.10/dist-packages (from requests[socks]->gdown) (2.0.7)\n",
            "Requirement already satisfied: certifi>=2017.4.17 in /usr/local/lib/python3.10/dist-packages (from requests[socks]->gdown) (2024.2.2)\n",
            "Requirement already satisfied: PySocks!=1.5.7,>=1.5.6 in /usr/local/lib/python3.10/dist-packages (from requests[socks]->gdown) (1.7.1)\n"
          ]
        }
      ]
    },
    {
      "cell_type": "code",
      "source": [
        "import os\n",
        "import tensorflow as tf\n",
        "from tensorflow.keras.preprocessing.image import ImageDataGenerator"
      ],
      "metadata": {
        "id": "-8IBBHQTq9wp"
      },
      "execution_count": null,
      "outputs": []
    },
    {
      "cell_type": "code",
      "source": [
        "path = '/content/drive/MyDrive/Colab Notebooks/FINAL PROJECT/DogCat'"
      ],
      "metadata": {
        "id": "BQjIV3KQraPt"
      },
      "execution_count": null,
      "outputs": []
    },
    {
      "cell_type": "code",
      "source": [
        "datagen = ImageDataGenerator(\n",
        "    rescale=1./255,\n",
        "    validation_split=0.2,\n",
        "    horizontal_flip=True,\n",
        "    zoom_range=0.2,\n",
        "    shear_range=0.2\n",
        ")\n",
        "\n",
        "train_generator = datagen.flow_from_directory(\n",
        "    os.path.join(path, 'train'),\n",
        "    target_size=(256, 256),\n",
        "    batch_size=32,\n",
        "    class_mode='binary',\n",
        "    subset='training'\n",
        ")\n",
        "\n",
        "validation_generator = datagen.flow_from_directory(\n",
        "    os.path.join(path, 'train'),\n",
        "    target_size=(256, 256),\n",
        "    batch_size=32,\n",
        "    class_mode='binary',\n",
        "    subset='validation'\n",
        ")"
      ],
      "metadata": {
        "colab": {
          "base_uri": "https://localhost:8080/"
        },
        "id": "Z4X_ZJzZrtSt",
        "outputId": "b19b28f7-04a8-44f6-a89d-c2601541c292"
      },
      "execution_count": null,
      "outputs": [
        {
          "output_type": "stream",
          "name": "stdout",
          "text": [
            "Found 447 images belonging to 2 classes.\n",
            "Found 110 images belonging to 2 classes.\n"
          ]
        }
      ]
    },
    {
      "cell_type": "markdown",
      "source": [
        "##Training the model"
      ],
      "metadata": {
        "id": "Qi9e6ypWvzfv"
      }
    },
    {
      "cell_type": "code",
      "source": [
        "model = tf.keras.models.Sequential([\n",
        "    tf.keras.layers.Conv2D(32, (3, 3), activation='relu', input_shape=(256, 256, 3)),\n",
        "    tf.keras.layers.MaxPooling2D(2, 2),\n",
        "    tf.keras.layers.Conv2D(64, (3, 3), activation='relu'),\n",
        "    tf.keras.layers.MaxPooling2D(2, 2),\n",
        "    tf.keras.layers.Conv2D(128, (3, 3), activation='relu'),\n",
        "    tf.keras.layers.MaxPooling2D(2, 2),\n",
        "    tf.keras.layers.Conv2D(128, (3, 3), activation='relu'),\n",
        "    tf.keras.layers.MaxPooling2D(2, 2),\n",
        "    tf.keras.layers.Flatten(),\n",
        "    tf.keras.layers.Dense(512, activation='relu'),\n",
        "    tf.keras.layers.Dense(256, activation='relu'),\n",
        "    tf.keras.layers.Dropout(0.5),\n",
        "    tf.keras.layers.Dense(1, activation='sigmoid')\n",
        "])"
      ],
      "metadata": {
        "id": "tFyfYk9lr0r_"
      },
      "execution_count": null,
      "outputs": []
    },
    {
      "cell_type": "code",
      "source": [
        "model.compile(optimizer='adam',\n",
        "              loss='binary_crossentropy',\n",
        "              metrics=['accuracy'])"
      ],
      "metadata": {
        "id": "cBMPA_aht9KL"
      },
      "execution_count": null,
      "outputs": []
    },
    {
      "cell_type": "code",
      "source": [
        "history = model.fit(\n",
        "    train_generator,\n",
        "    steps_per_epoch=train_generator.samples // train_generator.batch_size,\n",
        "    validation_data=validation_generator,\n",
        "    validation_steps=validation_generator.samples // validation_generator.batch_size,\n",
        "    epochs=20\n",
        ")"
      ],
      "metadata": {
        "colab": {
          "base_uri": "https://localhost:8080/"
        },
        "id": "SghR6o0Ot3H_",
        "outputId": "9d052c86-6748-4169-98e2-bbb1aae4e827"
      },
      "execution_count": null,
      "outputs": [
        {
          "output_type": "stream",
          "name": "stdout",
          "text": [
            "Epoch 1/20\n",
            "13/13 [==============================] - 112s 8s/step - loss: 0.7204 - accuracy: 0.5181 - val_loss: 0.6919 - val_accuracy: 0.5000\n",
            "Epoch 2/20\n",
            "13/13 [==============================] - 86s 7s/step - loss: 0.6933 - accuracy: 0.5301 - val_loss: 0.6987 - val_accuracy: 0.4792\n",
            "Epoch 3/20\n",
            "13/13 [==============================] - 86s 6s/step - loss: 0.6906 - accuracy: 0.5952 - val_loss: 0.6853 - val_accuracy: 0.5000\n",
            "Epoch 4/20\n",
            "13/13 [==============================] - 85s 6s/step - loss: 0.6750 - accuracy: 0.5663 - val_loss: 0.7027 - val_accuracy: 0.5521\n",
            "Epoch 5/20\n",
            "13/13 [==============================] - 92s 7s/step - loss: 0.6645 - accuracy: 0.6024 - val_loss: 0.6752 - val_accuracy: 0.5938\n",
            "Epoch 6/20\n",
            "13/13 [==============================] - 82s 6s/step - loss: 0.6485 - accuracy: 0.6048 - val_loss: 0.7001 - val_accuracy: 0.5625\n",
            "Epoch 7/20\n",
            "13/13 [==============================] - 81s 6s/step - loss: 0.6275 - accuracy: 0.6651 - val_loss: 0.6504 - val_accuracy: 0.5625\n",
            "Epoch 8/20\n",
            "13/13 [==============================] - 86s 6s/step - loss: 0.6473 - accuracy: 0.6298 - val_loss: 0.6546 - val_accuracy: 0.6146\n",
            "Epoch 9/20\n",
            "13/13 [==============================] - 81s 6s/step - loss: 0.6243 - accuracy: 0.6410 - val_loss: 0.6839 - val_accuracy: 0.5938\n",
            "Epoch 10/20\n",
            "13/13 [==============================] - 84s 6s/step - loss: 0.6041 - accuracy: 0.6337 - val_loss: 0.6606 - val_accuracy: 0.6146\n",
            "Epoch 11/20\n",
            "13/13 [==============================] - 83s 6s/step - loss: 0.6202 - accuracy: 0.6602 - val_loss: 0.6177 - val_accuracy: 0.6875\n",
            "Epoch 12/20\n",
            "13/13 [==============================] - 83s 6s/step - loss: 0.5809 - accuracy: 0.6602 - val_loss: 0.6322 - val_accuracy: 0.6354\n",
            "Epoch 13/20\n",
            "13/13 [==============================] - 84s 6s/step - loss: 0.5938 - accuracy: 0.6964 - val_loss: 0.6403 - val_accuracy: 0.6458\n",
            "Epoch 14/20\n",
            "13/13 [==============================] - 85s 6s/step - loss: 0.6202 - accuracy: 0.6651 - val_loss: 0.6546 - val_accuracy: 0.5938\n",
            "Epoch 15/20\n",
            "13/13 [==============================] - 84s 6s/step - loss: 0.5960 - accuracy: 0.6867 - val_loss: 0.6599 - val_accuracy: 0.5833\n",
            "Epoch 16/20\n",
            "13/13 [==============================] - 86s 6s/step - loss: 0.5783 - accuracy: 0.6675 - val_loss: 0.6438 - val_accuracy: 0.5833\n",
            "Epoch 17/20\n",
            "13/13 [==============================] - 85s 6s/step - loss: 0.5856 - accuracy: 0.6892 - val_loss: 0.6677 - val_accuracy: 0.6042\n",
            "Epoch 18/20\n",
            "13/13 [==============================] - 84s 6s/step - loss: 0.5429 - accuracy: 0.7084 - val_loss: 0.6388 - val_accuracy: 0.6771\n",
            "Epoch 19/20\n",
            "13/13 [==============================] - 87s 6s/step - loss: 0.6383 - accuracy: 0.7181 - val_loss: 0.6245 - val_accuracy: 0.6250\n",
            "Epoch 20/20\n",
            "13/13 [==============================] - 88s 7s/step - loss: 0.5500 - accuracy: 0.7181 - val_loss: 0.6365 - val_accuracy: 0.6562\n"
          ]
        }
      ]
    },
    {
      "cell_type": "code",
      "source": [
        "model.save('/content/drive/MyDrive/Colab Notebooks/FINAL PROJECT/DogCat/cat_dog_classifier.h5')"
      ],
      "metadata": {
        "id": "HWMtqKY3uCNv"
      },
      "execution_count": null,
      "outputs": []
    },
    {
      "cell_type": "markdown",
      "source": [
        "##Streamlit"
      ],
      "metadata": {
        "id": "8ZYRenETuRYs"
      }
    },
    {
      "cell_type": "code",
      "source": [
        "import streamlit as st\n",
        "import tensorflow as tf\n",
        "from tensorflow.keras.preprocessing.image import img_to_array\n",
        "import numpy as np\n",
        "from PIL import Image\n",
        "import gdown\n",
        "import os"
      ],
      "metadata": {
        "id": "aGzYVMcXuSm9"
      },
      "execution_count": null,
      "outputs": []
    },
    {
      "cell_type": "code",
      "source": [
        "model = tf.keras.models.load_model('/content/drive/MyDrive/Colab Notebooks/FINAL PROJECT/DogCat/cat_dog_classifier.h5')"
      ],
      "metadata": {
        "id": "MFXljE9WuU2T"
      },
      "execution_count": null,
      "outputs": []
    },
    {
      "cell_type": "code",
      "source": [
        "class_names = ['cat', 'dog']"
      ],
      "metadata": {
        "id": "Pe4bon-YufEn"
      },
      "execution_count": null,
      "outputs": []
    },
    {
      "cell_type": "code",
      "source": [
        "def predict(image):\n",
        "    image = image.resize((256, 256))\n",
        "    image = img_to_array(image) / 255.0\n",
        "    image = np.expand_dims(image, axis=0)\n",
        "    prediction = model.predict(image)\n",
        "    st.write(f\"Raw model output: {prediction}\")\n",
        "    predicted_class = class_names[int(np.round(prediction[0]))]\n",
        "    return predicted_class\n",
        "\n",
        "st.title(\"Cat and Dog Image Classification App\")\n",
        "uploaded_file = st.file_uploader(\"Please choose an image:  \", type=\"jpg\")\n",
        "\n",
        "if uploaded_file is not None:\n",
        "    image = Image.open(uploaded_file)\n",
        "    st.image(image, caption='Uploaded Image.', use_column_width=True)\n",
        "    st.write(\"\")\n",
        "    st.write(\"Classifying...\")\n",
        "    if model:\n",
        "        label = predict(image)\n",
        "        st.write(f\"Prediction: {label}\")\n",
        "    else:\n",
        "        st.error(\"Model is not loaded, unable to classify the image.\")"
      ],
      "metadata": {
        "id": "eE51yUwsurjv"
      },
      "execution_count": null,
      "outputs": []
    },
    {
      "cell_type": "markdown",
      "source": [
        "##Creating app.py and requirements.txt for deployment"
      ],
      "metadata": {
        "id": "uEFpduxdv9HY"
      }
    },
    {
      "cell_type": "code",
      "source": [
        "save_path = '/content/drive/MyDrive/Colab Notebooks/FINAL PROJECT/DogCat/app.py'"
      ],
      "metadata": {
        "id": "q4x8WTu1uyu7"
      },
      "execution_count": null,
      "outputs": []
    },
    {
      "cell_type": "code",
      "source": [
        "script_code = \"\"\"\n",
        "import streamlit as st\n",
        "import tensorflow as tf\n",
        "from tensorflow.keras.preprocessing.image import img_to_array\n",
        "import numpy as np\n",
        "from PIL import Image\n",
        "import gdown\n",
        "\n",
        "model_url = 'https://drive.google.com/file/d/1-IQghpVqloccTnJJVD8sJiI3kuYsaz-8'\n",
        "model_path = 'cat_dog_classifier.h5'\n",
        "\n",
        "@st.cache(allow_output_mutation=True)\n",
        "def load_model():\n",
        "    gdown.download(model_url, model_path, quiet=False)\n",
        "    model = tf.keras.models.load_model(model_path)\n",
        "    return model\n",
        "\n",
        "model = load_model()\n",
        "\n",
        "class_names = ['cat', 'dog']\n",
        "\n",
        "def predict(image):\n",
        "    image = image.resize((256, 256))\n",
        "    image = img_to_array(image) / 255.0\n",
        "    image = np.expand_dims(image, axis=0)\n",
        "    prediction = model.predict(image)\n",
        "    predicted_class = class_names[int(np.round(prediction[0]))]\n",
        "    return predicted_class\n",
        "\n",
        "st.title(\"Cat and Dog Image Classification App\")\n",
        "uploaded_file = st.file_uploader(\"Please choose an image:  \", type=\"jpg\")\n",
        "\n",
        "if uploaded_file is not None:\n",
        "    image = Image.open(uploaded_file)\n",
        "    st.image(image, caption='Uploaded Image.', use_column_width=True)\n",
        "    st.write(\"\")\n",
        "    st.write(\"Classifying...\")\n",
        "    label = predict(image)\n",
        "    st.write(f\"Prediction: {label}\")\n",
        "\"\"\"\n",
        "\n",
        "with open(save_path, 'w') as f:\n",
        "    f.write(script_code)\n",
        "\n",
        "print(f'Script saved to Google Drive at: {save_path}')"
      ],
      "metadata": {
        "colab": {
          "base_uri": "https://localhost:8080/"
        },
        "id": "R80VZ-uEvDap",
        "outputId": "45f07077-a611-47bf-8706-a201c5de489b"
      },
      "execution_count": null,
      "outputs": [
        {
          "output_type": "stream",
          "name": "stdout",
          "text": [
            "Script saved to Google Drive at: /content/drive/MyDrive/Colab Notebooks/FINAL PROJECT/DogCat/app.py\n"
          ]
        }
      ]
    },
    {
      "cell_type": "code",
      "source": [
        "from pydrive.auth import GoogleAuth\n",
        "from pydrive.drive import GoogleDrive\n",
        "from google.colab import auth\n",
        "from oauth2client.client import GoogleCredentials"
      ],
      "metadata": {
        "id": "HszEeW7xvKHq"
      },
      "execution_count": null,
      "outputs": []
    },
    {
      "cell_type": "code",
      "source": [
        "auth.authenticate_user()\n",
        "gauth = GoogleAuth()\n",
        "gauth.credentials = GoogleCredentials.get_application_default()\n",
        "drive = GoogleDrive(gauth)"
      ],
      "metadata": {
        "id": "VZAxCrEcvNpx"
      },
      "execution_count": null,
      "outputs": []
    },
    {
      "cell_type": "code",
      "source": [
        "save_path = '/content/drive/MyDrive/Colab Notebooks/FINAL PROJECT/DogCat/requirements.txt'\n",
        "requirements_content = \"\"\"\n",
        "streamlit\n",
        "tensorflow\n",
        "pillow\n",
        "numpy\n",
        "gdown\n",
        "\"\"\"\n",
        "\n",
        "file = drive.CreateFile({'title': 'requirements.txt', 'parents': [{'id': '1g-0Wwo7bNZJJNQYM9uFKDBsBgqN7CsaS'}]})\n",
        "file.SetContentString(requirements_content)\n",
        "file.Upload()\n",
        "print(f\"File saved to Google Drive at: {save_path}\")"
      ],
      "metadata": {
        "colab": {
          "base_uri": "https://localhost:8080/"
        },
        "id": "MlKJ6zBxvRWI",
        "outputId": "41556f42-361b-470a-8c14-a3b43418995e"
      },
      "execution_count": null,
      "outputs": [
        {
          "output_type": "stream",
          "name": "stdout",
          "text": [
            "File saved to Google Drive at: /content/drive/MyDrive/Colab Notebooks/FINAL PROJECT/DogCat/requirements.txt\n"
          ]
        }
      ]
    },
    {
      "cell_type": "code",
      "source": [
        "import os\n",
        "\n",
        "model_path = '/content/drive/MyDrive/Colab Notebooks/FINAL PROJECT/DogCat/cat_dog_classifier.h5'\n",
        "\n",
        "print(f\"Model file path: {os.path.abspath(model_path)}\")\n",
        "print(f\"Model file size: {os.path.getsize(model_path)} bytes\")\n",
        "\n",
        "try:\n",
        "    model = tf.keras.models.load_model(model_path)\n",
        "    print(\"Model loaded successfully.\")\n",
        "except Exception as e:\n",
        "    print(f\"Error loading model: {e}\")\n"
      ],
      "metadata": {
        "colab": {
          "base_uri": "https://localhost:8080/"
        },
        "id": "OeITOKj-vVaK",
        "outputId": "cbbcf171-d6a6-47e1-95f9-20826faf288c"
      },
      "execution_count": null,
      "outputs": [
        {
          "output_type": "stream",
          "name": "stdout",
          "text": [
            "Model file path: /content/drive/MyDrive/Colab Notebooks/FINAL PROJECT/DogCat/cat_dog_classifier.h5\n",
            "Model file size: 158685896 bytes\n",
            "Model loaded successfully.\n"
          ]
        }
      ]
    }
  ]
}