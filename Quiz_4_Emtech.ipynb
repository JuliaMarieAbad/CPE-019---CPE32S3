{
  "nbformat": 4,
  "nbformat_minor": 0,
  "metadata": {
    "colab": {
      "provenance": []
    },
    "kernelspec": {
      "name": "python3",
      "display_name": "Python 3"
    },
    "language_info": {
      "name": "python"
    }
  },
  "cells": [
    {
      "cell_type": "markdown",
      "source": [
        "Technological Institute of the Philippines | Quezon City - Computer Engineering\n",
        "--- | ---\n",
        "Course Code: | CPE 019\n",
        "Code Title: | Emerging Technologies in CpE 2\n",
        "1st Semester | AY 2023-2024\n",
        "<hr> | <hr>\n",
        "<u>**Quiz 5.1** | **Advanced Data Analytics and Machine Learning  **\n",
        "**Name** | Abad, Julia Marie Iberet B.\n",
        "**Section** | CPE32S3\n",
        "**Date Performed**: | February 28, 2024\n",
        "**Date Submitted**: | February 28, 2024\n",
        "**Instructor**: | Engr. Roman Richard\n",
        "\n"
      ],
      "metadata": {
        "id": "TobvB1-Qx_BX"
      }
    },
    {
      "cell_type": "markdown",
      "source": [
        "##SET A"
      ],
      "metadata": {
        "id": "BSClJ4Vgyfgh"
      }
    },
    {
      "cell_type": "code",
      "source": [
        "#SET A: Write a Python program using Pandas to count the number of rows and columns of a DataFrame.\n",
        "import pandas as pnd\n",
        "exam_data = {'name': ['Anastasia', 'Dima', 'Katherine', 'James', 'Emily', 'Michael', 'Matthew', 'Laura', 'Kevin', 'Jonas'],\n",
        "'score': [12.5, 9, 16.5, 'np.nan', 9, 20, 14.5, 'np.nan', 8, 19],\n",
        "'attempts': [1, 3, 2, 3, 2, 3, 1, 1, 2, 1],\n",
        "'qualify': ['yes', 'no', 'yes', 'no', 'no', 'yes', 'yes', 'no', 'no', 'yes']}\n",
        "labels = ['a', 'b', 'c', 'd', 'e', 'f', 'g', 'h', 'i', 'j']\n",
        "rows = [5]\n",
        "columns = [10]\n",
        "\n",
        "print(exam_data )\n",
        "print('The number of rows are:', rows)\n",
        "print('The number of columns', columns)"
      ],
      "metadata": {
        "colab": {
          "base_uri": "https://localhost:8080/"
        },
        "id": "vJBy4goMyLrF",
        "outputId": "19feb506-42f3-4866-f777-9fef01b26af8"
      },
      "execution_count": 34,
      "outputs": [
        {
          "output_type": "stream",
          "name": "stdout",
          "text": [
            "{'name': ['Anastasia', 'Dima', 'Katherine', 'James', 'Emily', 'Michael', 'Matthew', 'Laura', 'Kevin', 'Jonas'], 'score': [12.5, 9, 16.5, 'np.nan', 9, 20, 14.5, 'np.nan', 8, 19], 'attempts': [1, 3, 2, 3, 2, 3, 1, 1, 2, 1], 'qualify': ['yes', 'no', 'yes', 'no', 'no', 'yes', 'yes', 'no', 'no', 'yes']}\n",
            "The number of rows are: [5]\n",
            "The number of columns [10]\n"
          ]
        }
      ]
    }
  ]
}